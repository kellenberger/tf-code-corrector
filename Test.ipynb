{
 "cells": [
  {
   "cell_type": "code",
   "execution_count": 1,
   "metadata": {},
   "outputs": [
    {
     "name": "stderr",
     "output_type": "stream",
     "text": [
      "/home/sven/anaconda2/lib/python2.7/site-packages/h5py/__init__.py:36: FutureWarning: Conversion of the second argument of issubdtype from `float` to `np.floating` is deprecated. In future, it will be treated as `np.float64 == np.dtype(float).type`.\n",
      "  from ._conv import register_converters as _register_converters\n"
     ]
    }
   ],
   "source": [
    "import tensorflow as tf\n",
    "import numpy as np\n",
    "import os\n",
    "import random\n",
    "import re\n",
    "\n",
    "from batch_generators.java_batch_generator import JavaBatchGenerator\n",
    "\n",
    "%load_ext autoreload\n",
    "%autoreload 2"
   ]
  },
  {
   "cell_type": "code",
   "execution_count": 2,
   "metadata": {},
   "outputs": [],
   "source": [
    "data_directory = '/home/sven/java_github_corpus'"
   ]
  },
  {
   "cell_type": "code",
   "execution_count": null,
   "metadata": {
    "scrolled": true
   },
   "outputs": [
    {
     "name": "stdout",
     "output_type": "stream",
     "text": [
      "project 0/14435\n",
      "project 1/14435\n",
      "project 2/14435\n",
      "project 3/14435\n",
      "project 4/14435\n",
      "project 5/14435\n",
      "project 6/14435\n",
      "project 7/14435\n",
      "project 8/14435\n",
      "project 9/14435\n",
      "project 10/14435\n",
      "project 11/14435\n",
      "project 12/14435\n",
      "project 13/14435\n",
      "project 14/14435\n",
      "project 15/14435\n",
      "project 16/14435\n",
      "project 17/14435\n",
      "project 18/14435\n",
      "project 19/14435\n",
      "project 20/14435\n",
      "project 21/14435\n",
      "project 22/14435\n",
      "project 23/14435\n",
      "project 24/14435\n",
      "project 25/14435\n",
      "project 26/14435\n",
      "project 27/14435\n",
      "project 28/14435\n",
      "project 29/14435\n",
      "project 30/14435\n",
      "project 31/14435\n",
      "project 32/14435\n",
      "project 33/14435\n",
      "project 34/14435\n",
      "project 35/14435\n",
      "project 36/14435\n",
      "project 37/14435\n",
      "project 38/14435\n",
      "project 39/14435\n",
      "project 40/14435\n",
      "project 41/14435\n",
      "project 42/14435\n",
      "project 43/14435\n",
      "project 44/14435\n",
      "project 45/14435\n",
      "project 46/14435\n",
      "project 47/14435\n",
      "project 48/14435\n",
      "project 49/14435\n",
      "project 50/14435\n",
      "project 51/14435\n",
      "project 52/14435\n",
      "project 53/14435\n",
      "project 54/14435\n",
      "project 55/14435\n",
      "project 56/14435\n",
      "project 57/14435\n",
      "project 58/14435\n",
      "project 59/14435\n",
      "project 60/14435\n",
      "project 61/14435\n",
      "project 62/14435\n"
     ]
    }
   ],
   "source": [
    "from collections import Counter\n",
    "import javalang\n",
    "\n",
    "subdirectories = [name for name in os.listdir(data_directory) if os.path.isdir(os.path.join(data_directory, name))]\n",
    "count = len(subdirectories)\n",
    "counter = Counter()\n",
    "for i, s in enumerate(subdirectories):\n",
    "    print('project {}/{}'.format(i, count))\n",
    "    files = [name for name in os.listdir(os.path.join(data_directory, s)) \n",
    "              if not os.path.isdir(os.path.join(data_directory, s, name))]\n",
    "    for file in files:\n",
    "        with open(os.path.join(data_directory, s, file), 'r') as file_data:\n",
    "            tokens = list(javalang.tokenizer.tokenize(file_data.read()))\n",
    "            counter.update(tokens)"
   ]
  },
  {
   "cell_type": "code",
   "execution_count": 15,
   "metadata": {},
   "outputs": [],
   "source": [
    "batch_generator = JavaBatchGenerator(data_directory)\n",
    "input_iterator = batch_generator.train_batch_generator(8)"
   ]
  },
  {
   "cell_type": "code",
   "execution_count": 16,
   "metadata": {},
   "outputs": [
    {
     "name": "stdout",
     "output_type": "stream",
     "text": [
      "load projects\n",
      "[[105. 109. 112. 111. 114. 116.  32. 115. 116.  97. 116. 105.  99.  32.\n",
      "  111. 114. 103.  46. 106. 117. 110. 105. 116.  46.  65. 115. 115. 101.\n",
      "  114. 116.  46.  97. 115. 115. 101. 114. 116.  69. 113. 117.  97. 108.\n",
      "  115.  59.   0.   0.   0.   0.   0.   0.   0.   0.   0.   0.   0.   0.\n",
      "    0.   0.   0.   0.   0.   0.   0.   0.   0.   0.   0.   0.   0.]\n",
      " [105. 109. 112. 111. 114. 116.  32.  99. 111. 109.  46.  97.  97. 104.\n",
      "   46. 115. 121. 110. 100. 105.  99.  97. 116. 101.  46. 111. 112. 109.\n",
      "  108.  46.  79. 117. 116. 108. 105. 110. 101.  59.   0.   0.   0.   0.\n",
      "    0.   0.   0.   0.   0.   0.   0.   0.   0.   0.   0.   0.   0.   0.\n",
      "    0.   0.   0.   0.   0.   0.   0.   0.   0.   0.   0.   0.   0.]\n",
      " [112. 117.  98. 108. 105.  99.  32.  99. 108.  97. 115. 115.  32.  84.\n",
      "  117. 112. 108. 101.  87. 114.  97. 112. 112. 101. 114.  32. 123.   0.\n",
      "    0.   0.   0.   0.   0.   0.   0.   0.   0.   0.   0.   0.   0.   0.\n",
      "    0.   0.   0.   0.   0.   0.   0.   0.   0.   0.   0.   0.   0.   0.\n",
      "    0.   0.   0.   0.   0.   0.   0.   0.   0.   0.   0.   0.   0.]\n",
      " [123.   0.   0.   0.   0.   0.   0.   0.   0.   0.   0.   0.   0.   0.\n",
      "    0.   0.   0.   0.   0.   0.   0.   0.   0.   0.   0.   0.   0.   0.\n",
      "    0.   0.   0.   0.   0.   0.   0.   0.   0.   0.   0.   0.   0.   0.\n",
      "    0.   0.   0.   0.   0.   0.   0.   0.   0.   0.   0.   0.   0.   0.\n",
      "    0.   0.   0.   0.   0.   0.   0.   0.   0.   0.   0.   0.   0.]\n",
      " [125.   0.   0.   0.   0.   0.   0.   0.   0.   0.   0.   0.   0.   0.\n",
      "    0.   0.   0.   0.   0.   0.   0.   0.   0.   0.   0.   0.   0.   0.\n",
      "    0.   0.   0.   0.   0.   0.   0.   0.   0.   0.   0.   0.   0.   0.\n",
      "    0.   0.   0.   0.   0.   0.   0.   0.   0.   0.   0.   0.   0.   0.\n",
      "    0.   0.   0.   0.   0.   0.   0.   0.   0.   0.   0.   0.   0.]\n",
      " [115. 117. 112. 101. 114.  46. 111. 110.  82. 101. 115. 117. 109. 101.\n",
      "   40.  41.  59.   0.   0.   0.   0.   0.   0.   0.   0.   0.   0.   0.\n",
      "    0.   0.   0.   0.   0.   0.   0.   0.   0.   0.   0.   0.   0.   0.\n",
      "    0.   0.   0.   0.   0.   0.   0.   0.   0.   0.   0.   0.   0.   0.\n",
      "    0.   0.   0.   0.   0.   0.   0.   0.   0.   0.   0.   0.   0.]\n",
      " [ 72. 116. 116. 112.  85.  82.  76.  67. 111. 110. 110. 101.  99. 116.\n",
      "  105. 111. 110.  32. 104. 116. 116. 112.  67. 111. 110.  32.  61.  32.\n",
      "   40.  72. 116. 116. 112.  85.  82.  76.  67. 111. 110. 110. 101.  99.\n",
      "  116. 105. 111. 110.  41.  32. 117. 114. 108.  46. 111. 112. 101. 110.\n",
      "   67. 111. 110. 110. 101.  99. 116. 105. 111. 110.  40.  41.  59.]\n",
      " [ 84. 101. 120. 116.  86. 105. 101. 119.  32.  82. 101. 115. 117. 108.\n",
      "  116.  84. 105. 116. 108. 101.  44.  32.  82. 101. 115. 117. 108. 116.\n",
      "   67. 111. 117. 110. 116.  59.   0.   0.   0.   0.   0.   0.   0.   0.\n",
      "    0.   0.   0.   0.   0.   0.   0.   0.   0.   0.   0.   0.   0.   0.\n",
      "    0.   0.   0.   0.   0.   0.   0.   0.   0.   0.   0.   0.   0.]]\n"
     ]
    }
   ],
   "source": [
    "print(input_iterator.next())"
   ]
  },
  {
   "cell_type": "code",
   "execution_count": 11,
   "metadata": {},
   "outputs": [
    {
     "ename": "KeyboardInterrupt",
     "evalue": "",
     "output_type": "error",
     "traceback": [
      "\u001b[0;31m---------------------------------------------------------------------------\u001b[0m",
      "\u001b[0;31mKeyboardInterrupt\u001b[0m                         Traceback (most recent call last)",
      "\u001b[0;32m<ipython-input-11-7d1addf6ecc6>\u001b[0m in \u001b[0;36m<module>\u001b[0;34m()\u001b[0m\n\u001b[1;32m      2\u001b[0m \u001b[0mcount\u001b[0m \u001b[0;34m=\u001b[0m \u001b[0;36m0\u001b[0m\u001b[0;34m\u001b[0m\u001b[0m\n\u001b[1;32m      3\u001b[0m \u001b[0;32mfor\u001b[0m \u001b[0ms\u001b[0m \u001b[0;32min\u001b[0m \u001b[0msubdirectories\u001b[0m\u001b[0;34m:\u001b[0m\u001b[0;34m\u001b[0m\u001b[0m\n\u001b[0;32m----> 4\u001b[0;31m     \u001b[0;32mif\u001b[0m \u001b[0;32mnot\u001b[0m \u001b[0mos\u001b[0m\u001b[0;34m.\u001b[0m\u001b[0mlistdir\u001b[0m\u001b[0;34m(\u001b[0m\u001b[0mos\u001b[0m\u001b[0;34m.\u001b[0m\u001b[0mpath\u001b[0m\u001b[0;34m.\u001b[0m\u001b[0mjoin\u001b[0m\u001b[0;34m(\u001b[0m\u001b[0mdata_directory\u001b[0m\u001b[0;34m,\u001b[0m \u001b[0ms\u001b[0m\u001b[0;34m)\u001b[0m\u001b[0;34m)\u001b[0m\u001b[0;34m:\u001b[0m\u001b[0;34m\u001b[0m\u001b[0m\n\u001b[0m\u001b[1;32m      5\u001b[0m         \u001b[0mcount\u001b[0m \u001b[0;34m+=\u001b[0m \u001b[0;36m1\u001b[0m\u001b[0;34m\u001b[0m\u001b[0m\n\u001b[1;32m      6\u001b[0m \u001b[0;32mprint\u001b[0m\u001b[0;34m(\u001b[0m\u001b[0mcount\u001b[0m\u001b[0;34m)\u001b[0m\u001b[0;34m\u001b[0m\u001b[0m\n",
      "\u001b[0;31mKeyboardInterrupt\u001b[0m: "
     ]
    }
   ],
   "source": [
    "subdirectories = [name for name in os.listdir(data_directory) if os.path.isdir(os.path.join(data_directory, name))]\n",
    "count = 0\n",
    "for s in subdirectories:\n",
    "    if not os.listdir(os.path.join(data_directory, s)):\n",
    "        count += 1\n",
    "print(count)"
   ]
  },
  {
   "cell_type": "code",
   "execution_count": 9,
   "metadata": {},
   "outputs": [],
   "source": [
    "a = np.array([[1,2,3],[1,2]])"
   ]
  },
  {
   "cell_type": "code",
   "execution_count": 10,
   "metadata": {},
   "outputs": [
    {
     "name": "stdout",
     "output_type": "stream",
     "text": [
      "(2,)\n"
     ]
    }
   ],
   "source": [
    "print(a.shape)"
   ]
  },
  {
   "cell_type": "code",
   "execution_count": 13,
   "metadata": {},
   "outputs": [
    {
     "name": "stdout",
     "output_type": "stream",
     "text": [
      "[[ 1.  2.  3.  0.  0.]\n",
      " [ 4.  0.  0.  0.  0.]\n",
      " [ 5.  6.  7.  8.  9.]\n",
      " [10. 11.  0.  0.  0.]]\n",
      "(4, 5)\n"
     ]
    }
   ],
   "source": [
    "a = np.array([[1,2,3],[4], [5,6,7,8,9],[10,11]])\n",
    "\n",
    "max_length = 0\n",
    "sequence_lengths = []\n",
    "for l in a:\n",
    "    sequence_lengths.append(len(l))\n",
    "    if len(l) > max_length:\n",
    "        max_length = len(l)\n",
    "\n",
    "b = np.zeros((len(a), max_length))\n",
    "for i in range(len(a)):\n",
    "    b[i][:sequence_lengths[i]] = a[i]\n",
    "    \n",
    "print(b)\n",
    "print(b.shape)"
   ]
  },
  {
   "cell_type": "code",
   "execution_count": 22,
   "metadata": {},
   "outputs": [],
   "source": [
    "tf.reset_default_graph()\n",
    "\n",
    "input = tf.placeholder(tf.float32, shape=(128, None, 5), name='input')\n",
    "target = tf.placeholder(tf.float32, shape=(128, None, None), name='target')\n",
    "\n",
    "batch_generator = JavaBatchGenerator(data_directory)\n",
    "\n",
    "rnn_layers = [tf.nn.rnn_cell.LSTMCell(256) for i in range(2)]\n",
    "multi_rnn_cell = tf.nn.rnn_cell.MultiRNNCell(rnn_layers)\n",
    "encoder_outputs, encoder_state = tf.nn.dynamic_rnn(cell = multi_rnn_cell,\n",
    "                                                    inputs = input,\n",
    "                                                    dtype = tf.float32)"
   ]
  },
  {
   "cell_type": "code",
   "execution_count": null,
   "metadata": {},
   "outputs": [],
   "source": []
  }
 ],
 "metadata": {
  "kernelspec": {
   "display_name": "Python 2",
   "language": "python",
   "name": "python2"
  },
  "language_info": {
   "codemirror_mode": {
    "name": "ipython",
    "version": 2
   },
   "file_extension": ".py",
   "mimetype": "text/x-python",
   "name": "python",
   "nbconvert_exporter": "python",
   "pygments_lexer": "ipython2",
   "version": "2.7.14"
  }
 },
 "nbformat": 4,
 "nbformat_minor": 2
}
