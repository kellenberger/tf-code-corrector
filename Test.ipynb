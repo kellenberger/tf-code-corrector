{
 "cells": [
  {
   "cell_type": "code",
   "execution_count": 1,
   "metadata": {},
   "outputs": [
    {
     "name": "stderr",
     "output_type": "stream",
     "text": [
      "/home/sven/anaconda2/lib/python2.7/site-packages/h5py/__init__.py:36: FutureWarning: Conversion of the second argument of issubdtype from `float` to `np.floating` is deprecated. In future, it will be treated as `np.float64 == np.dtype(float).type`.\n",
      "  from ._conv import register_converters as _register_converters\n"
     ]
    }
   ],
   "source": [
    "import tensorflow as tf\n",
    "import numpy as np\n",
    "import os\n",
    "import random\n",
    "import re\n",
    "\n",
    "from batch_generators.java_batch_generator import JavaBatchGenerator\n",
    "\n",
    "%load_ext autoreload\n",
    "%autoreload 2"
   ]
  },
  {
   "cell_type": "code",
   "execution_count": 2,
   "metadata": {},
   "outputs": [],
   "source": [
    "data_directory = '/home/sven/java_github_corpus'"
   ]
  },
  {
   "cell_type": "code",
   "execution_count": null,
   "metadata": {
    "scrolled": true
   },
   "outputs": [
    {
     "name": "stdout",
     "output_type": "stream",
     "text": [
      "project 0/14435\n",
      "project 1/14435\n",
      "project 2/14435\n",
      "project 3/14435\n",
      "project 4/14435\n",
      "project 5/14435\n",
      "project 6/14435\n",
      "project 7/14435\n",
      "project 8/14435\n",
      "project 9/14435\n",
      "project 10/14435\n",
      "project 11/14435\n",
      "project 12/14435\n",
      "project 13/14435\n",
      "project 14/14435\n",
      "project 15/14435\n",
      "project 16/14435\n",
      "project 17/14435\n",
      "project 18/14435\n",
      "project 19/14435\n",
      "project 20/14435\n",
      "project 21/14435\n",
      "project 22/14435\n",
      "project 23/14435\n",
      "project 24/14435\n",
      "project 25/14435\n",
      "project 26/14435\n",
      "project 27/14435\n",
      "project 28/14435\n",
      "project 29/14435\n",
      "project 30/14435\n",
      "project 31/14435\n",
      "project 32/14435\n",
      "project 33/14435\n",
      "project 34/14435\n",
      "project 35/14435\n",
      "project 36/14435\n",
      "project 37/14435\n",
      "project 38/14435\n",
      "project 39/14435\n",
      "project 40/14435\n",
      "project 41/14435\n",
      "project 42/14435\n",
      "project 43/14435\n",
      "project 44/14435\n",
      "project 45/14435\n",
      "project 46/14435\n",
      "project 47/14435\n",
      "project 48/14435\n",
      "project 49/14435\n",
      "project 50/14435\n",
      "project 51/14435\n",
      "project 52/14435\n",
      "project 53/14435\n",
      "project 54/14435\n",
      "project 55/14435\n",
      "project 56/14435\n",
      "project 57/14435\n",
      "project 58/14435\n",
      "project 59/14435\n",
      "project 60/14435\n",
      "project 61/14435\n",
      "project 62/14435\n"
     ]
    }
   ],
   "source": [
    "from collections import Counter\n",
    "import javalang\n",
    "\n",
    "subdirectories = [name for name in os.listdir(data_directory) if os.path.isdir(os.path.join(data_directory, name))]\n",
    "count = len(subdirectories)\n",
    "counter = Counter()\n",
    "for i, s in enumerate(subdirectories):\n",
    "    print('project {}/{}'.format(i, count))\n",
    "    files = [name for name in os.listdir(os.path.join(data_directory, s)) \n",
    "              if not os.path.isdir(os.path.join(data_directory, s, name))]\n",
    "    for file in files:\n",
    "        with open(os.path.join(data_directory, s, file), 'r') as file_data:\n",
    "            tokens = list(javalang.tokenizer.tokenize(file_data.read()))\n",
    "            counter.update(tokens)"
   ]
  },
  {
   "cell_type": "code",
   "execution_count": 62,
   "metadata": {},
   "outputs": [],
   "source": [
    "batch_generator = JavaBatchGenerator(data_directory)\n",
    "input_iterator = batch_generator.train_batch_generator(8)"
   ]
  },
  {
   "cell_type": "code",
   "execution_count": 67,
   "metadata": {},
   "outputs": [],
   "source": [
    "b, x, b, z = input_iterator.next()"
   ]
  },
  {
   "cell_type": "code",
   "execution_count": 68,
   "metadata": {},
   "outputs": [
    {
     "name": "stdout",
     "output_type": "stream",
     "text": [
      "���������;rezinekoTgnirtS.litu.avaj tropmi\n",
      "���������������������������������������,\"\"\n",
      "�����������������������������������������}\n",
      ";)\"KO deifirev PTO *n\\\"(nltnirp.tuo.metsyS\n",
      "����������������������;)(nltnirp.tuo.mtsyS\n",
      "�����������������������������������������}\n",
      "��������;golaiDssergorP.ppa.diordna tropmi\n",
      "�����������������������������������������}\n"
     ]
    }
   ],
   "source": [
    "c = np.packbits(b, axis=2).view('uint16')\n",
    "for e in c:\n",
    "    s = ''\n",
    "    for f in e:\n",
    "        s += chr(f[0])\n",
    "    print(s)"
   ]
  },
  {
   "cell_type": "code",
   "execution_count": 26,
   "metadata": {},
   "outputs": [
    {
     "name": "stdout",
     "output_type": "stream",
     "text": [
      "[0 0 0 0 0 0 0 0 1 0 0 0 0 0 0 0]\n"
     ]
    }
   ],
   "source": [
    "a = np.array([2**15], dtype='uint16')\n",
    "b = np.unpackbits(a.view('uint8'))\n",
    "print b"
   ]
  },
  {
   "cell_type": "code",
   "execution_count": 45,
   "metadata": {},
   "outputs": [
    {
     "name": "stdout",
     "output_type": "stream",
     "text": [
      "[['o', 'l', 'l', 'e', 'h'], ['d', 'l', 'r', 'o', 'w']]\n"
     ]
    }
   ],
   "source": [
    "lines = ['hello', 'world']\n",
    "batch = [[char for char in line[::-1]] for line in lines]\n",
    "print(batch)"
   ]
  },
  {
   "cell_type": "code",
   "execution_count": 13,
   "metadata": {},
   "outputs": [
    {
     "name": "stdout",
     "output_type": "stream",
     "text": [
      "[[ 1.  2.  3.  0.  0.]\n",
      " [ 4.  0.  0.  0.  0.]\n",
      " [ 5.  6.  7.  8.  9.]\n",
      " [10. 11.  0.  0.  0.]]\n",
      "(4, 5)\n"
     ]
    }
   ],
   "source": [
    "a = np.array([[1,2,3],[4], [5,6,7,8,9],[10,11]])\n",
    "\n",
    "max_length = 0\n",
    "sequence_lengths = []\n",
    "for l in a:\n",
    "    sequence_lengths.append(len(l))\n",
    "    if len(l) > max_length:\n",
    "        max_length = len(l)\n",
    "\n",
    "b = np.zeros((len(a), max_length))\n",
    "for i in range(len(a)):\n",
    "    b[i][:sequence_lengths[i]] = a[i]\n",
    "    \n",
    "print(b)\n",
    "print(b.shape)"
   ]
  },
  {
   "cell_type": "code",
   "execution_count": 61,
   "metadata": {},
   "outputs": [
    {
     "data": {
      "text/plain": [
       "1"
      ]
     },
     "execution_count": 61,
     "metadata": {},
     "output_type": "execute_result"
    }
   ],
   "source": [
    "random.randint(0, 1)"
   ]
  },
  {
   "cell_type": "code",
   "execution_count": null,
   "metadata": {},
   "outputs": [],
   "source": []
  }
 ],
 "metadata": {
  "kernelspec": {
   "display_name": "Python 2",
   "language": "python",
   "name": "python2"
  },
  "language_info": {
   "codemirror_mode": {
    "name": "ipython",
    "version": 2
   },
   "file_extension": ".py",
   "mimetype": "text/x-python",
   "name": "python",
   "nbconvert_exporter": "python",
   "pygments_lexer": "ipython2",
   "version": "2.7.14"
  }
 },
 "nbformat": 4,
 "nbformat_minor": 2
}
