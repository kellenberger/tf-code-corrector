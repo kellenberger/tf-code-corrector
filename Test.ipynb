{
 "cells": [
  {
   "cell_type": "code",
   "execution_count": 15,
   "metadata": {},
   "outputs": [
    {
     "name": "stdout",
     "output_type": "stream",
     "text": [
      "The autoreload extension is already loaded. To reload it, use:\n",
      "  %reload_ext autoreload\n"
     ]
    }
   ],
   "source": [
    "import tensorflow as tf\n",
    "import numpy as np\n",
    "import os\n",
    "import random\n",
    "import re\n",
    "\n",
    "from batch_generators.java_batch_generator import JavaBatchGenerator\n",
    "\n",
    "%load_ext autoreload\n",
    "%autoreload 2"
   ]
  },
  {
   "cell_type": "code",
   "execution_count": 2,
   "metadata": {},
   "outputs": [],
   "source": [
    "data_directory = '/home/sven/java_github_corpus'"
   ]
  },
  {
   "cell_type": "code",
   "execution_count": null,
   "metadata": {
    "scrolled": true
   },
   "outputs": [
    {
     "name": "stdout",
     "output_type": "stream",
     "text": [
      "project 0/14435\n",
      "project 1/14435\n",
      "project 2/14435\n",
      "project 3/14435\n",
      "project 4/14435\n",
      "project 5/14435\n",
      "project 6/14435\n",
      "project 7/14435\n",
      "project 8/14435\n",
      "project 9/14435\n",
      "project 10/14435\n",
      "project 11/14435\n",
      "project 12/14435\n",
      "project 13/14435\n",
      "project 14/14435\n",
      "project 15/14435\n",
      "project 16/14435\n",
      "project 17/14435\n",
      "project 18/14435\n",
      "project 19/14435\n",
      "project 20/14435\n",
      "project 21/14435\n",
      "project 22/14435\n",
      "project 23/14435\n",
      "project 24/14435\n",
      "project 25/14435\n",
      "project 26/14435\n",
      "project 27/14435\n",
      "project 28/14435\n",
      "project 29/14435\n",
      "project 30/14435\n",
      "project 31/14435\n",
      "project 32/14435\n",
      "project 33/14435\n",
      "project 34/14435\n",
      "project 35/14435\n",
      "project 36/14435\n",
      "project 37/14435\n",
      "project 38/14435\n",
      "project 39/14435\n",
      "project 40/14435\n",
      "project 41/14435\n",
      "project 42/14435\n",
      "project 43/14435\n",
      "project 44/14435\n",
      "project 45/14435\n",
      "project 46/14435\n",
      "project 47/14435\n",
      "project 48/14435\n",
      "project 49/14435\n",
      "project 50/14435\n",
      "project 51/14435\n",
      "project 52/14435\n",
      "project 53/14435\n",
      "project 54/14435\n",
      "project 55/14435\n",
      "project 56/14435\n",
      "project 57/14435\n",
      "project 58/14435\n",
      "project 59/14435\n",
      "project 60/14435\n",
      "project 61/14435\n",
      "project 62/14435\n"
     ]
    }
   ],
   "source": [
    "from collections import Counter\n",
    "import javalang\n",
    "\n",
    "subdirectories = [name for name in os.listdir(data_directory) if os.path.isdir(os.path.join(data_directory, name))]\n",
    "count = len(subdirectories)\n",
    "counter = Counter()\n",
    "for i, s in enumerate(subdirectories):\n",
    "    print('project {}/{}'.format(i, count))\n",
    "    files = [name for name in os.listdir(os.path.join(data_directory, s)) \n",
    "              if not os.path.isdir(os.path.join(data_directory, s, name))]\n",
    "    for file in files:\n",
    "        with open(os.path.join(data_directory, s, file), 'r') as file_data:\n",
    "            tokens = list(javalang.tokenizer.tokenize(file_data.read()))\n",
    "            counter.update(tokens)"
   ]
  },
  {
   "cell_type": "code",
   "execution_count": 33,
   "metadata": {},
   "outputs": [],
   "source": [
    "batch_generator = JavaBatchGenerator(data_directory)\n",
    "input_iterator = batch_generator.train_batch_generator(8)"
   ]
  },
  {
   "cell_type": "code",
   "execution_count": 34,
   "metadata": {},
   "outputs": [
    {
     "name": "stdout",
     "output_type": "stream",
     "text": [
      "load projects\n"
     ]
    },
    {
     "ename": "TypeError",
     "evalue": "float() argument must be a string or a number",
     "output_type": "error",
     "traceback": [
      "\u001b[0;31m---------------------------------------------------------------------------\u001b[0m",
      "\u001b[0;31mTypeError\u001b[0m                                 Traceback (most recent call last)",
      "\u001b[0;32m<ipython-input-34-35f37907c6c2>\u001b[0m in \u001b[0;36m<module>\u001b[0;34m()\u001b[0m\n\u001b[0;32m----> 1\u001b[0;31m \u001b[0;32mprint\u001b[0m\u001b[0;34m(\u001b[0m\u001b[0minput_iterator\u001b[0m\u001b[0;34m.\u001b[0m\u001b[0mnext\u001b[0m\u001b[0;34m(\u001b[0m\u001b[0;34m)\u001b[0m\u001b[0;34m)\u001b[0m\u001b[0;34m\u001b[0m\u001b[0m\n\u001b[0m",
      "\u001b[0;32m/home/sven/deep-code-corrector/batch_generators/java_batch_generator.py\u001b[0m in \u001b[0;36mtrain_batch_generator\u001b[0;34m(self, batch_size)\u001b[0m\n\u001b[1;32m     37\u001b[0m                         \u001b[0mselected_line\u001b[0m \u001b[0;34m=\u001b[0m \u001b[0mrandom\u001b[0m\u001b[0;34m.\u001b[0m\u001b[0mchoice\u001b[0m\u001b[0;34m(\u001b[0m\u001b[0mlines\u001b[0m\u001b[0;34m)\u001b[0m\u001b[0;34m.\u001b[0m\u001b[0mstrip\u001b[0m\u001b[0;34m(\u001b[0m\u001b[0;34m)\u001b[0m\u001b[0;34m\u001b[0m\u001b[0m\n\u001b[1;32m     38\u001b[0m                     \u001b[0minput_batch\u001b[0m\u001b[0;34m.\u001b[0m\u001b[0mappend\u001b[0m\u001b[0;34m(\u001b[0m\u001b[0mlist\u001b[0m\u001b[0;34m(\u001b[0m\u001b[0mjavalang\u001b[0m\u001b[0;34m.\u001b[0m\u001b[0mtokenizer\u001b[0m\u001b[0;34m.\u001b[0m\u001b[0mtokenize\u001b[0m\u001b[0;34m(\u001b[0m\u001b[0mselected_line\u001b[0m\u001b[0;34m)\u001b[0m\u001b[0;34m)\u001b[0m\u001b[0;34m)\u001b[0m\u001b[0;34m\u001b[0m\u001b[0m\n\u001b[0;32m---> 39\u001b[0;31m             \u001b[0;32myield\u001b[0m \u001b[0mself\u001b[0m\u001b[0;34m.\u001b[0m\u001b[0mpad_array_with_zeros\u001b[0m\u001b[0;34m(\u001b[0m\u001b[0minput_batch\u001b[0m\u001b[0;34m)\u001b[0m\u001b[0;34m\u001b[0m\u001b[0m\n\u001b[0m",
      "\u001b[0;32m/home/sven/deep-code-corrector/batch_generators/batch_generator.py\u001b[0m in \u001b[0;36mpad_array_with_zeros\u001b[0;34m(self, array)\u001b[0m\n\u001b[1;32m     22\u001b[0m         \u001b[0mb\u001b[0m \u001b[0;34m=\u001b[0m \u001b[0mnp\u001b[0m\u001b[0;34m.\u001b[0m\u001b[0mzeros\u001b[0m\u001b[0;34m(\u001b[0m\u001b[0;34m(\u001b[0m\u001b[0mlen\u001b[0m\u001b[0;34m(\u001b[0m\u001b[0marray\u001b[0m\u001b[0;34m)\u001b[0m\u001b[0;34m,\u001b[0m \u001b[0mmax_length\u001b[0m\u001b[0;34m)\u001b[0m\u001b[0;34m)\u001b[0m\u001b[0;34m\u001b[0m\u001b[0m\n\u001b[1;32m     23\u001b[0m         \u001b[0;32mfor\u001b[0m \u001b[0mi\u001b[0m \u001b[0;32min\u001b[0m \u001b[0mrange\u001b[0m\u001b[0;34m(\u001b[0m\u001b[0mlen\u001b[0m\u001b[0;34m(\u001b[0m\u001b[0marray\u001b[0m\u001b[0;34m)\u001b[0m\u001b[0;34m)\u001b[0m\u001b[0;34m:\u001b[0m\u001b[0;34m\u001b[0m\u001b[0m\n\u001b[0;32m---> 24\u001b[0;31m             \u001b[0mb\u001b[0m\u001b[0;34m[\u001b[0m\u001b[0mi\u001b[0m\u001b[0;34m]\u001b[0m\u001b[0;34m[\u001b[0m\u001b[0;34m:\u001b[0m\u001b[0msequence_lengths\u001b[0m\u001b[0;34m[\u001b[0m\u001b[0mi\u001b[0m\u001b[0;34m]\u001b[0m\u001b[0;34m]\u001b[0m \u001b[0;34m=\u001b[0m \u001b[0marray\u001b[0m\u001b[0;34m[\u001b[0m\u001b[0mi\u001b[0m\u001b[0;34m]\u001b[0m\u001b[0;34m\u001b[0m\u001b[0m\n\u001b[0m\u001b[1;32m     25\u001b[0m \u001b[0;34m\u001b[0m\u001b[0m\n\u001b[1;32m     26\u001b[0m         \u001b[0;32mreturn\u001b[0m \u001b[0mb\u001b[0m\u001b[0;34m\u001b[0m\u001b[0m\n",
      "\u001b[0;31mTypeError\u001b[0m: float() argument must be a string or a number"
     ]
    }
   ],
   "source": [
    "print(input_iterator.next())"
   ]
  },
  {
   "cell_type": "code",
   "execution_count": 21,
   "metadata": {},
   "outputs": [
    {
     "name": "stdout",
     "output_type": "stream",
     "text": [
      "0\n"
     ]
    }
   ],
   "source": [
    "subdirectories = [name for name in os.listdir(data_directory) if os.path.isdir(os.path.join(data_directory, name))]\n",
    "count = 0\n",
    "for s in subdirectories:\n",
    "    if not os.listdir(os.path.join(data_directory, s)):\n",
    "        count += 1\n",
    "print(count)"
   ]
  },
  {
   "cell_type": "code",
   "execution_count": 9,
   "metadata": {},
   "outputs": [],
   "source": [
    "a = np.array([[1,2,3],[1,2]])"
   ]
  },
  {
   "cell_type": "code",
   "execution_count": 10,
   "metadata": {},
   "outputs": [
    {
     "name": "stdout",
     "output_type": "stream",
     "text": [
      "(2,)\n"
     ]
    }
   ],
   "source": [
    "print(a.shape)"
   ]
  },
  {
   "cell_type": "code",
   "execution_count": 13,
   "metadata": {},
   "outputs": [
    {
     "name": "stdout",
     "output_type": "stream",
     "text": [
      "[[ 1.  2.  3.  0.  0.]\n",
      " [ 4.  0.  0.  0.  0.]\n",
      " [ 5.  6.  7.  8.  9.]\n",
      " [10. 11.  0.  0.  0.]]\n",
      "(4, 5)\n"
     ]
    }
   ],
   "source": [
    "a = np.array([[1,2,3],[4], [5,6,7,8,9],[10,11]])\n",
    "\n",
    "max_length = 0\n",
    "sequence_lengths = []\n",
    "for l in a:\n",
    "    sequence_lengths.append(len(l))\n",
    "    if len(l) > max_length:\n",
    "        max_length = len(l)\n",
    "\n",
    "b = np.zeros((len(a), max_length))\n",
    "for i in range(len(a)):\n",
    "    b[i][:sequence_lengths[i]] = a[i]\n",
    "    \n",
    "print(b)\n",
    "print(b.shape)"
   ]
  },
  {
   "cell_type": "code",
   "execution_count": null,
   "metadata": {},
   "outputs": [],
   "source": []
  }
 ],
 "metadata": {
  "kernelspec": {
   "display_name": "Python 2",
   "language": "python",
   "name": "python2"
  },
  "language_info": {
   "codemirror_mode": {
    "name": "ipython",
    "version": 2
   },
   "file_extension": ".py",
   "mimetype": "text/x-python",
   "name": "python",
   "nbconvert_exporter": "python",
   "pygments_lexer": "ipython2",
   "version": "2.7.14"
  }
 },
 "nbformat": 4,
 "nbformat_minor": 2
}
