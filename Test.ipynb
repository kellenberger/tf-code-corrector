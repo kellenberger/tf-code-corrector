{
 "cells": [
  {
   "cell_type": "code",
   "execution_count": 4,
   "metadata": {},
   "outputs": [],
   "source": [
    "import tensorflow as tf\n",
    "import numpy as np\n",
    "import os\n",
    "import random"
   ]
  },
  {
   "cell_type": "code",
   "execution_count": 2,
   "metadata": {},
   "outputs": [],
   "source": [
    "data_directory = '/home/sven/java_github_corpus'"
   ]
  },
  {
   "cell_type": "code",
   "execution_count": 30,
   "metadata": {},
   "outputs": [],
   "source": [
    "batch_size = 8\n",
    "def generate_batch():\n",
    "    projects = []\n",
    "    with open(os.path.join(data_directory, 'trainJava.csv'), 'r') as train_projects:\n",
    "        print('load projects')\n",
    "        for project in train_projects:\n",
    "            if os.path.exists(os.path.join(data_directory, project.strip())):\n",
    "                projects.append(project.strip())\n",
    "    while True:\n",
    "        input_batch = []\n",
    "        random_projects = np.random.choice(projects, size=batch_size)\n",
    "        for random_project in random_projects:\n",
    "            file = random.choice(os.listdir(os.path.join(data_directory, random_project)))\n",
    "            with open(os.path.join(data_directory, random_project, file), 'r') as random_file:\n",
    "                lines = random_file.read().split(\"\\n\")\n",
    "                selected_line = None\n",
    "                while not selected_line:\n",
    "                    selected_line = random.choice(lines).strip()\n",
    "                input_batch.append(selected_line)\n",
    "        yield input_batch\n",
    "        \n",
    "batch_generator = generate_batch()"
   ]
  },
  {
   "cell_type": "code",
   "execution_count": 36,
   "metadata": {},
   "outputs": [
    {
     "name": "stdout",
     "output_type": "stream",
     "text": [
      "['/**', 'List<Rule> rules = CSSParser.parse(\"div { width: 100px; -mozilla-opacity: 345; } /* a comment */ beta{height:200px;display:blocked;}table td{}\");', '}', '{', '//System.out.println(\"Mouvement d\\'argent : \" + target.getLocalName() + \" -> \" + value);', 'public String getVersion() {', '* @author Benjamin Asbach <my.name at gmail.com>', '* which accompanies this distribution, and is available at']\n"
     ]
    }
   ],
   "source": [
    "print(batch_generator.next())"
   ]
  },
  {
   "cell_type": "code",
   "execution_count": 32,
   "metadata": {},
   "outputs": [
    {
     "name": "stdout",
     "output_type": "stream",
     "text": [
      "0\n"
     ]
    }
   ],
   "source": [
    "subdirectories = [name for name in os.listdir(data_directory) if os.path.isdir(os.path.join(data_directory, name))]\n",
    "count = 0\n",
    "for s in subdirectories:\n",
    "    if not os.listdir(os.path.join(data_directory, s)):\n",
    "        count += 1\n",
    "print(count)"
   ]
  },
  {
   "cell_type": "code",
   "execution_count": null,
   "metadata": {},
   "outputs": [],
   "source": []
  }
 ],
 "metadata": {
  "kernelspec": {
   "display_name": "Python 2",
   "language": "python",
   "name": "python2"
  },
  "language_info": {
   "codemirror_mode": {
    "name": "ipython",
    "version": 2
   },
   "file_extension": ".py",
   "mimetype": "text/x-python",
   "name": "python",
   "nbconvert_exporter": "python",
   "pygments_lexer": "ipython2",
   "version": "2.7.14"
  }
 },
 "nbformat": 4,
 "nbformat_minor": 2
}
